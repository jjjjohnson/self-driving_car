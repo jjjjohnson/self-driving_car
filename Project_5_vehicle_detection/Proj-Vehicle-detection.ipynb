{
 "cells": [
  {
   "cell_type": "code",
   "execution_count": 1,
   "metadata": {
    "collapsed": false
   },
   "outputs": [],
   "source": [
    "from find_cars import find_car, add_heat, apply_threshold, draw_labeled_bboxes\n",
    "from helper import convert_color"
   ]
  },
  {
   "cell_type": "code",
   "execution_count": 2,
   "metadata": {
    "collapsed": false
   },
   "outputs": [],
   "source": [
    "import numpy as np\n",
    "from collections import deque\n",
    "from scipy.ndimage.measurements import label\n",
    "# Import everything needed to edit/save/watch video clips\n",
    "from moviepy.editor import VideoFileClip\n",
    "from IPython.display import HTML\n",
    "# Read and display the image\n",
    "import matplotlib.image as mpimg\n",
    "%matplotlib inline\n",
    "import matplotlib.pyplot as plt\n",
    "import cv2\n",
    "import pickle"
   ]
  },
  {
   "cell_type": "code",
   "execution_count": 3,
   "metadata": {
    "collapsed": false
   },
   "outputs": [],
   "source": [
    "# load SVM model\n",
    "with open('svc.pkl','rb') as f:\n",
    "    svc = pickle.load(f)\n",
    "\n",
    "# load scaler\n",
    "with open('X_scaler.pkl','rb') as f:\n",
    "    X_scaler = pickle.load(f)"
   ]
  },
  {
   "cell_type": "code",
   "execution_count": 4,
   "metadata": {
    "collapsed": false
   },
   "outputs": [],
   "source": [
    "spatial_size = (32,32)\n",
    "hist_bins = 32\n",
    "orient = 9\n",
    "pix_per_cell = 8\n",
    "cell_per_block = 2\n",
    "\n",
    "def process_image(image,single=False):\n",
    "    \"\"\"1.Takes in color image, extract features and make prediction\n",
    "       2.Filter False positive and add back missing over several image frames\"\"\"\n",
    "    \n",
    "    heat = np.zeros_like(image[:,:,0])\n",
    "    for scale in [0.7,1,1.3]:\n",
    "        if scale == 0.7:\n",
    "            ystart, ystop = 360,600\n",
    "            xstart, xstop = 0,1280\n",
    "\n",
    "        elif scale == 1:\n",
    "            ystart, ystop = 360,600\n",
    "            xstart, xstop = 0, 1280\n",
    "\n",
    "        elif scale == 1.3:\n",
    "            ystart, ystop = 360,720\n",
    "            xstart, xstop = 0, 1280\n",
    "\n",
    "        bbox = find_car(image, ystart, ystop, xstart, xstop, scale, svc, X_scaler, orient, pix_per_cell, cell_per_block, spatial_size, hist_bins)\n",
    "        heat = add_heat(heat, bbox)\n",
    "    if single:\n",
    "        heatmap = apply_threshold(heat, 2)\n",
    "    else:\n",
    "        buffer_heat.append(heat)\n",
    "        heat = np.sum(np.array(buffer_heat), axis=0).astype(np.float)\n",
    "        heat = cv2.GaussianBlur(heat,(15,15),0)\n",
    "        heatmap = apply_threshold(heat, 10)\n",
    "    \n",
    "    labels = label(heatmap) # labels[0] is an array the size of heatmap, labels[1] is the number of labels found\n",
    "    draw_img = draw_labeled_bboxes(np.copy(image), labels)\n",
    "    \n",
    "    return draw_img"
   ]
  },
  {
   "cell_type": "raw",
   "metadata": {
    "collapsed": false
   },
   "source": [
    "bboxes_frame = deque(maxlen=200)\n",
    "img = mpimg.imread('/Users/jinjunjie/a_self_driving_car/Advanced line finding/Proj-Advanced-Lane-Lines/test_images/test1.jpg')\n",
    "out_img, heatmap = process_image(img)\n",
    "plt.subplot(121)\n",
    "plt.imshow(out_img)\n",
    "plt.axis('off')\n",
    "plt.subplot(122)\n",
    "plt.imshow(heatmap,cmap='gray')\n",
    "plt.axis('off')\n",
    "plt.show()"
   ]
  },
  {
   "cell_type": "code",
   "execution_count": null,
   "metadata": {
    "collapsed": false,
    "scrolled": true
   },
   "outputs": [],
   "source": [
    "bboxes_frame = deque(maxlen=20)\n",
    "white_output = 'short.mp4'\n",
    "clip1 = VideoFileClip(\"/Users/jinjunjie/a_self_driving_car/Advanced line finding/Proj-Advanced-Lane-Lines/project_short.mp4\")\n",
    "white_clip = clip1.fl_image(process_image) #NOTE: this function expects color images!!\n",
    "%time white_clip.write_videofile(white_output, audio=False)"
   ]
  },
  {
   "cell_type": "code",
   "execution_count": null,
   "metadata": {
    "collapsed": false
   },
   "outputs": [],
   "source": [
    "HTML(\"\"\"\n",
    "<video width=\"960\" height=\"540\" controls>\n",
    "  <source src=\"{0}\">\n",
    "</video>\n",
    "\"\"\".format(white_output))"
   ]
  },
  {
   "cell_type": "code",
   "execution_count": null,
   "metadata": {
    "collapsed": true
   },
   "outputs": [],
   "source": []
  },
  {
   "cell_type": "code",
   "execution_count": null,
   "metadata": {
    "collapsed": true
   },
   "outputs": [],
   "source": []
  }
 ],
 "metadata": {
  "anaconda-cloud": {},
  "kernelspec": {
   "display_name": "Python [conda env:IntroToTensorFlow]",
   "language": "python",
   "name": "conda-env-IntroToTensorFlow-py"
  },
  "language_info": {
   "codemirror_mode": {
    "name": "ipython",
    "version": 3
   },
   "file_extension": ".py",
   "mimetype": "text/x-python",
   "name": "python",
   "nbconvert_exporter": "python",
   "pygments_lexer": "ipython3",
   "version": "3.5.2"
  }
 },
 "nbformat": 4,
 "nbformat_minor": 1
}
